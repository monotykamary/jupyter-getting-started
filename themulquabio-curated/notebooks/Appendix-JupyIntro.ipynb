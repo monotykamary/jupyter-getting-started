{
 "cells": [
  {
   "cell_type": "markdown",
   "metadata": {},
   "source": [
    "# Introduction to Jupyter"
   ]
  },
  {
   "cell_type": "markdown",
   "metadata": {},
   "source": [
    "## What is Jupyter?\n",
    "\n",
    "The Jupyter Notebook offers an interactive interface to multiple programming languages (including Python and R) that can be viewed and manipulated in web browsers.\n",
    " \n",
    "Jupyter notebooks can run code, and also store the code and a current snapshot of the output (graphics and text), together with notes (in markdown), in an editable document called a *notebook* (like this one you are currently reading).\n",
    "\n",
    "Thus a Jupyter notebook is similar to a [Mathematica](https://www.wolfram.com/mathematica/)\n",
    " or [Maple](https://www.maplesoft.com/) notebook. The difference is that Jupyter is free, fast improving, and unlike Mathematica or Maple notebooks, the Jupyter notebook can support almost [100 programming languages](https://github.com/jupyter/jupyter/wiki/Jupyter-kernels) (more on this [below](#Language-Kernels)). Furthermore, Jupyter notebooks are saved on disk as a [JSON](https://www.json.org/) files (with a .ipynb extension), so are  fully open source and can be kept under version control.  \n",
    "\n",
    "### Why use interactive notebooks?\n",
    "\n",
    "Jupyter is a great tool for \"literate programming\"; a software development style pioneered by (yes, again!) Donald Knuth. In his words:\n",
    "> *Let us change our traditional attitude to the construction of programs: Instead of imagining that our main task is to instruct a computer what to do, let us concentrate rather on explaining to human beings what we want a computer to do.*\n",
    "\n",
    "In literate programming, human-friendly text is as important as code, making coding accessible to a larger proportion of people. \n",
    "\n",
    "And just as importantly, literate programming also helps address the generally poor reproducibility of scientific research by making your code and your methods better reproducible and reusable.\n",
    "\n",
    "With Jupyter notebooks, you can *explore quantitative ideas* by combining snippets of computer code and human text. The main uses of Jupyter notebooks are:\n",
    "* Data science (e.g., with [pandas](http://pandas.pydata.org/))\n",
    "* Mathematical analyses (e.g., with [sympy](http://www.sympy.org/en/index.html))\n",
    "* Interactive visualization (e.g., with [matpliotib](https://matplotlib.org/) or [ggplot](https://ggplot2.tidyverse.org/))\n",
    "* Education\n",
    "\n",
    "Jupyter Notebooks are increasingly being used as a research tool in academic, government (e.g., NASA), as well as industry (e.g., IBM, Facebook, Microsoft & JP Morgan) sectors. \n",
    "\n",
    "## Key Jupyter features\n",
    "\n",
    "The Jupyter Notebook:\n",
    "\n",
    "* ...allows you to keep notes using [markdown](https://en.wikipedia.org/wiki/Markdown), the increasingly popular markup language.\n",
    "* ...offers features available in typical Interactive Development Environments (IDEs) such as code completion and easy access to help.\n",
    "* ...has LaTeX support. \n",
    "* ...can be saved and easily shared in the .ipynb [JSON](https://www.json.org/) (**J**ava**S**cript **O**bject **N**otation &ndash; syntax for storing and exchanging data).\n",
    "* ...can be kept under version control (e.g., with git).\n",
    "* ...be rendered and viewed online. \n",
    "* ...can be exported to multiple formats, including html and pdf.\n",
    "\n",
    "### Jupyter vs. IPython\n",
    "\n",
    "[Brian Granger](https://physics.calpoly.edu/bgranger) and [Fernando Pérez](http://fperez.org/) created IPython (**I**nteractive **Python**) as an implementation of Python for literate programming, taking advantage of improved web browser technologies (e.g., HTML5). IPython notebooks quickly gained popularity (they were a great alternative to Mathematica and Maple as well), and in 2013 the IPython team won a Sloan Foundation Grant to accelerate development of this technology. The IPython Notebook concept was expanded upon to allow for additional programming languages, which became project Jupyter (why \"Jupyter\"? See [this](https://github.com/jupyter/design/wiki/Jupyter-Logo). IPython itself is now focused on the interactive Python project per se, part of which is providing a Python kernel for Jupyter.\n",
    "\n",
    "*Your Jupyter notebooks will typically open in IPython as well, but will not allow you Jupyter-only features* (of course!)  "
   ]
  },
  {
   "cell_type": "markdown",
   "metadata": {},
   "source": [
    "## Installing Jupyter\n",
    "\n",
    "Please see project Jupyter's [instructions for installation](http://jupyter.readthedocs.io/en/latest/install.html). Also, see [this](https://imperial-fons-computing.github.io/jupyter.html)."
   ]
  },
  {
   "cell_type": "markdown",
   "metadata": {},
   "source": [
    "### Language Kernels\n",
    "\n",
    "See [this](https://imperial-fons-computing.github.io/jupyter.html) for instructions for installing the Python and R kernels. Or you can [go through here](https://github.com/jupyter/jupyter/wiki/Jupyter-kernels) (and install addtional language kernels if you want).\n",
    "\n",
    "### Adding extensions to Jupyter\n",
    "\n",
    "Again, see [this](https://imperial-fons-computing.github.io/jupyter.html) for installing jupyter extensions."
   ]
  },
  {
   "cell_type": "markdown",
   "metadata": {},
   "source": [
    "## Launching/Running a Jupyter Notebook\n",
    "\n",
    "In Linux / Mac, Jupyter will start in the directory that toy launch it from though terminal. So in your terminal first `cd` to your weekly coursework' `code` directory.  Then, simply launch jupyter (Linux / Mac): \n",
    "\n",
    "``` bash\n",
    "jupyter notebook\n",
    "\n",
    "```\n",
    "This will inititalize a new server instance (watch your active terminal) and launch a web browser with the Jupyter interface, include a menu at the top. \n",
    "\n",
    "Play abound a bit. For starters,\n",
    "\n",
    "$\\star$ Create a new nb called `MyFirstJupyterNb.ipynb` using the menu in your `code` directory. \n",
    "\n",
    "One you have created the new nb, you can launch it next time by `cd`'ing to its location and then launching it by name: \n",
    "\n",
    "``` bash\n",
    "jupyter notebook MyFirstJupyterNb.ipynb\n",
    "\n",
    "```"
   ]
  },
  {
   "cell_type": "markdown",
   "metadata": {},
   "source": [
    "### Using `tmux`\n",
    "You may notice that jupyter locks up the terminal you launch it from until it is closed. This can be particularly frustrating, and there is an elegant solution. Enter `tmux`!\n",
    "\n",
    "`tmux` is a \"terminal multiplexer\", allowing you to run terminal sessions independent of (or \"detatched\" from) a terminal window. You can install tmux using apt:\n",
    "\n",
    "``` bash\n",
    "sudo apt install tmux\n",
    "```\n",
    "\n",
    "#### Detaching and Reattaching\n",
    "To run jupyter in a tmux session, start tmux using the command `tmux`.From here you can use the tmux terminal as you would your usual terminal session (so launch `jupyter notebook` as before), however if at any time you decide that you want to do something else, you can **detach**.\n",
    "\n",
    "To detach your terminal window from the session, use the shortcut `ctrl+b, d` (ctrl+b, then let go of that and hit d). This kicks you back to the normal terminal, however your other session is still running in the background.\n",
    "\n",
    "To see which sessions are currently running, use\n",
    "``` bash\n",
    "tmux ls\n",
    "```\n",
    "\n",
    "And to attach to the session:\n",
    "``` bash\n",
    "tmux a\n",
    "```\n",
    "\n",
    "*Note: you can attach to a session from a different terminal window or even terminal program!*\n",
    "\n",
    "To quit tmux entirely, just quit the terminal session either with `ctrl+d` or `exit`\n",
    "\n",
    "#### Why use `tmux`?\n",
    "While this is mostly just a quality of life suggestion, countless are the times that I have accidentally closed my terminal only to find that my jupyter session has also died. By decoupling the window from the terminal session, this no longer happens.\n",
    "\n",
    "Additionally tmux is absolutely invaluable when running long jobs on a remote server. In this case you can simply disconnect from the tmux session on the remote server. Then you can log in later (and/or from a different computer) and **reattach to the interactive session** (using `tmux a`) to check progress. In combination with good logging for long jobs, this can make your life infinitely easier."
   ]
  },
  {
   "cell_type": "markdown",
   "metadata": {},
   "source": [
    "## Key elements of the Jupyter nb content\n",
    "\n",
    "The two main elements (and the associated syntax) you need to know to modify the content of a Jupyter nb are as follows. These will either be entered into text-only cells (\"markdown cells\"), or code cells. To insert a new cell, click on the edge of an existing cell, and hit `A` or `B` on your keyboard to insert a cell above and below, respectively. By default, Jupyter inserts a code cell. To convert it to a text cell, hit `M` immediately after inserting the cell, or if you have clicked elsewhere after inserting the cell, by clicking on the edge of the new cell and *then* hitting `M`. You can now either enter and modify text or code:   \n",
    "\n",
    "###  Text cells\n",
    "\n",
    "Text is formatted using markdown and standard html. The [markdown cheatsheet for github](https://github.com/adam-p/markdown-here/wiki/Markdown-Cheatsheet) is very handy. Give it a quick spin to get started with markdown.  \n",
    "\n",
    "#### Equations\n",
    "\n",
    "You can insert inline or standalone equations by using standard $\\LaTeX$ environments (and you can access more $\\LaTeX$ functionality and environments using the [`LaTeX_envs` extension](https://github.com/jfbercher/jupyter_latex_envs).). For example, how about the ecologist's beloved logistic growth equation:"
   ]
  },
  {
   "cell_type": "markdown",
   "metadata": {},
   "source": [
    "```tex\n",
    "$$\n",
    "    \\frac{dN}{dt} = rN \\left( 1-\\frac{N}{K}\\right)\n",
    "$$\n",
    "```"
   ]
  },
  {
   "cell_type": "markdown",
   "metadata": {},
   "source": [
    "which will render as: \n",
    "\n",
    "\n",
    "$$\\frac{dN}{dt} = rN \\left( 1-\\frac{N}{K}\\right)$$\n",
    "\n",
    "### Code cells \n",
    "\n",
    "Depending on your kernel, you will type the appropriate programming language code in these cells.  "
   ]
  },
  {
   "cell_type": "markdown",
   "metadata": {},
   "source": [
    "## Keyboard shortcuts\n",
    "\n",
    "A full list of keyboard shortcuts can be displayed by clicking outside the current cell and hitting \"h\". The following are important keyboard shortcuts:\n",
    "\n",
    "| Key            | Command                                                    |\n",
    "|:---------------|:-----------------------------------------------------------|\n",
    "| `A` or `B`:    | insert cell above or below current cell, respectively      |\n",
    "| `M`       :    | convert code or raw cell to text cell                      |\n",
    "| `Y`        :   | convert raw or text cell to code cell                      |\n",
    "| `R`        :   | convert code or text cell to raw cell                      |\n",
    "| `CTRL+ENTER`:  | render (text) or evaluate (code) cell                      |\n",
    "| `D, D`:        | delete cell                                                |\n",
    "| `I, I`:        | interrupt a running kernel (evaluation of a code cell)     |\n",
    "| `X`:        | cut selected cell(s)     |\n",
    "| `SHIFT+V`:        | Insert cell(s) cell above selected cell     |\n",
    "| `V`:        | Insert cut cell(s)  below selected cell     |\n",
    "| `SHIFT+M`:        | merge selected cells, or current cell with cell below if only one cell selected |\n",
    "\n",
    "\n",
    "For a full list of keyboard shortcuts or to cutomize them, click anywhere outside your current cell and hit the `H` key. Or, click on the \"help\" menu item at the top."
   ]
  },
  {
   "cell_type": "markdown",
   "metadata": {},
   "source": [
    "## Running code \n",
    "\n",
    "Let's try running code in a code cell. Python first. Make sure that your kernel is Python using the dropdown Jupyter nb menu. Then try the following:"
   ]
  },
  {
   "cell_type": "code",
   "execution_count": 1,
   "metadata": {
    "scrolled": true
   },
   "outputs": [
    {
     "name": "stdout",
     "output_type": "stream",
     "text": [
      "[1] \"this is python!\"\n"
     ]
    }
   ],
   "source": [
    "a = \"this is python!\"; print(a)"
   ]
  },
  {
   "cell_type": "markdown",
   "metadata": {},
   "source": [
    "You can also run a script file that is saved on your computer by using the  ipython `%run` command --- basically you have a fully functional ipython environment inside each code cell."
   ]
  },
  {
   "cell_type": "markdown",
   "metadata": {},
   "source": [
    "Now R. Switch the kernel to R by using the *Kernel* menu along the top of the Jupyter window. \n",
    "\n",
    "Then try:"
   ]
  },
  {
   "cell_type": "code",
   "execution_count": 1,
   "metadata": {
    "scrolled": true
   },
   "outputs": [
    {
     "name": "stdout",
     "output_type": "stream",
     "text": [
      "this is R!"
     ]
    }
   ],
   "source": [
    "a <- \"this is R!\"; cat(a)"
   ]
  },
  {
   "cell_type": "markdown",
   "metadata": {},
   "source": [
    "### Graphics\n",
    "\n",
    "Plotting is straightforward. Again, let's try Python first. Switch back to the Python kernel. Then try:"
   ]
  },
  {
   "cell_type": "code",
   "execution_count": 2,
   "metadata": {
    "scrolled": true
   },
   "outputs": [
    {
     "data": {
      "image/png": "[encoded data removed]",
      "text/plain": [
       "<matplotlib.figure.Figure at 0x7f1ecb36b6d8>"
      ]
     },
     "metadata": {},
     "output_type": "display_data"
    }
   ],
   "source": [
    "import matplotlib.pyplot as p\n",
    "import scipy as sc\n",
    "\n",
    "x = sc.arange(0, 5, 0.1); y = sc.sin(x)\n",
    "p.plot(x, y); p.show()"
   ]
  },
  {
   "cell_type": "markdown",
   "metadata": {},
   "source": [
    "Now lets try R. Switch to the R kernel, and try:"
   ]
  },
  {
   "cell_type": "code",
   "execution_count": 1,
   "metadata": {},
   "outputs": [
    {
     "name": "stderr",
     "output_type": "stream",
     "text": [
      "Loading required package: ggplot2\n"
     ]
    },
    {
     "data": {},
     "metadata": {},
     "output_type": "display_data"
    },
    {
     "data": {
      "image/png": "[encoded data removed]",
      "text/plain": [
       "plot without title"
      ]
     },
     "metadata": {},
     "output_type": "display_data"
    }
   ],
   "source": [
    "require(ggplot2)\n",
    "library(repr)# to resize plot within jupyter - this package is part of IRKernel\n",
    "options(repr.plot.width=3.3,repr.plot.height=2.5)\n",
    "\n",
    "x <- seq(0, 5, 0.1); y <- sin(x)\n",
    "qplot(x, y, geom = \"line\") # large figure"
   ]
  },
  {
   "cell_type": "markdown",
   "metadata": {},
   "source": [
    "## Exiting a Jupyter Notebook\n",
    "\n",
    "Exiting is easy. Just `CTRL+S` (to save) and close the browser. The server will still be active in the bash terminal. You may then relaunch by typing the local url (e.g., by typing `http://localhost:8888/notebooks/MyJupyterNbName.ipynb`) in your web browser window, or by exiting the kernel with `CTRL+C` an then relaunching as you [originally did](#Launching/Running-a-Jupyter-Notebook).  "
   ]
  },
  {
   "cell_type": "markdown",
   "metadata": {},
   "source": [
    "That's the end of our intro to Jupyter. \n",
    "\n",
    "Play around a bit. You can also try out the [Data in Jupyter](Appendix-Data-Python.ipynb) and [Maths in Jupyter](Appendix-Maths.ipynb) tutorials.  "
   ]
  },
  {
   "cell_type": "markdown",
   "metadata": {},
   "source": [
    "## Readings and Resources\n",
    "\n",
    "* Check out [github flavored markdown](https://guides.github.com/features/mastering-markdown/), [markdown cheatsheet for github](https://github.com/adam-p/markdown-here/wiki/Markdown-Cheatsheet), and [also this](https://en.support.wordpress.com/markdown-quick-reference/)\n",
    "* [A gallery of interesting Jupyter Notebooks\n",
    "](https://github.com/jupyter/jupyter/wiki/A-gallery-of-interesting-Jupyter-Notebooks)\n",
    "* [Python Data Science Handbook](https://github.com/jakevdp/PythonDataScienceHandbook)\n",
    "* [Scientific Python Lectures in Jupyter](https://github.com/jrjohansson/scientific-python-lectures)"
   ]
  }
 ],
 "metadata": {
  "kernelspec": {
   "display_name": "R",
   "language": "R",
   "name": "ir"
  },
  "language_info": {
   "codemirror_mode": "r",
   "file_extension": ".r",
   "mimetype": "text/x-r-source",
   "name": "R",
   "pygments_lexer": "r",
   "version": "4.0.3"
  },
  "latex_envs": {
   "LaTeX_envs_menu_present": true,
   "autoclose": false,
   "autocomplete": false,
   "bibliofile": "biblio.bib",
   "cite_by": "apalike",
   "current_citInitial": 1,
   "eqLabelWithNumbers": true,
   "eqNumInitial": 1,
   "hotkeys": {
    "equation": "Ctrl-E",
    "itemize": "Ctrl-I"
   },
   "labels_anchors": false,
   "latex_user_defs": false,
   "report_style_numbering": false,
   "user_envs_cfg": false
  },
  "toc": {
   "base_numbering": 1,
   "nav_menu": {
    "height": "410px",
    "width": "252px"
   },
   "number_sections": true,
   "sideBar": false,
   "skip_h1_title": false,
   "title_cell": "Contents",
   "title_sidebar": "Contents",
   "toc_cell": false,
   "toc_position": {
    "height": "calc(100% - 180px)",
    "left": "10px",
    "top": "150px",
    "width": "165px"
   },
   "toc_section_display": false,
   "toc_window_display": true
  },
  "widgets": {
   "application/vnd.jupyter.widget-state+json": {
    "state": {},
    "version_major": 2,
    "version_minor": 0
   }
  }
 },
 "nbformat": 4,
 "nbformat_minor": 4
}
